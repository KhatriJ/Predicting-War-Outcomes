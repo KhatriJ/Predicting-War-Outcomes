{
 "cells": [
  {
   "cell_type": "markdown",
   "metadata": {},
   "source": [
    "# Predicting Conflict Outcomes Pt. 2\n",
    "by Jigar Khatri"
   ]
  },
  {
   "cell_type": "code",
   "execution_count": 1,
   "metadata": {},
   "outputs": [],
   "source": [
    "import pandas as pd\n",
    "import numpy as np"
   ]
  },
  {
   "cell_type": "code",
   "execution_count": 2,
   "metadata": {},
   "outputs": [],
   "source": [
    "load_ext blackcellmagic"
   ]
  },
  {
   "cell_type": "markdown",
   "metadata": {},
   "source": [
    "!Image(filename = '/Users/DBerl/Deskop/Conflict Datasets/Pandas_on_Slide.gif')"
   ]
  },
  {
   "cell_type": "code",
   "execution_count": 3,
   "metadata": {},
   "outputs": [],
   "source": [
    "pd.options.display.max_columns = 999"
   ]
  },
  {
   "cell_type": "code",
   "execution_count": 4,
   "metadata": {},
   "outputs": [],
   "source": [
    "df = pd.read_csv('comp_war_data.csv')"
   ]
  },
  {
   "cell_type": "code",
   "execution_count": 5,
   "metadata": {},
   "outputs": [
    {
     "data": {
      "text/plain": [
       "(1360, 32)"
      ]
     },
     "execution_count": 5,
     "metadata": {},
     "output_type": "execute_result"
    }
   ],
   "source": [
    "df.shape"
   ]
  },
  {
   "cell_type": "code",
   "execution_count": 6,
   "metadata": {},
   "outputs": [
    {
     "name": "stdout",
     "output_type": "stream",
     "text": [
      "<class 'pandas.core.frame.DataFrame'>\n",
      "RangeIndex: 1360 entries, 0 to 1359\n",
      "Data columns (total 32 columns):\n",
      "stateabb             1360 non-null object\n",
      "statea               1360 non-null int64\n",
      "year                 1360 non-null int64\n",
      "defensebudget        1360 non-null float64\n",
      "milsize              1360 non-null float64\n",
      "IronSteelProduct     1360 non-null float64\n",
      "EnergyUse            1360 non-null float64\n",
      "totalpop             1360 non-null float64\n",
      "urbanpop             1360 non-null float64\n",
      "CINC_Score_A         1360 non-null float64\n",
      "version_x            1360 non-null int64\n",
      "stateb               1360 non-null int64\n",
      "warstrtmnth          1360 non-null int64\n",
      "warstrtday           1360 non-null int64\n",
      "warstrtyr            1360 non-null int64\n",
      "warendmnth           1360 non-null int64\n",
      "warenday             1360 non-null int64\n",
      "warendyr             1360 non-null int64\n",
      "warolea              1360 non-null int64\n",
      "waroleb              1360 non-null int64\n",
      "wardyadrolea         1360 non-null int64\n",
      "wardyadroleb         1360 non-null int64\n",
      "outcomea             1360 non-null float64\n",
      "batdtha              1360 non-null float64\n",
      "batdthb              1360 non-null float64\n",
      "durindx              1360 non-null int64\n",
      "diff_in_days         1360 non-null int64\n",
      "diff_in_deaths       1360 non-null float64\n",
      "total_battle_dths    1360 non-null float64\n",
      "CINC_Score_B         1360 non-null float64\n",
      "version_y            1360 non-null int64\n",
      "diff_CINC            1360 non-null float64\n",
      "dtypes: float64(14), int64(17), object(1)\n",
      "memory usage: 340.1+ KB\n"
     ]
    }
   ],
   "source": [
    "df.info()"
   ]
  },
  {
   "cell_type": "markdown",
   "metadata": {},
   "source": [
    "# Exploring War Role Dummies"
   ]
  },
  {
   "cell_type": "code",
   "execution_count": 7,
   "metadata": {},
   "outputs": [
    {
     "data": {
      "text/plain": [
       "1    0.288235\n",
       "4    0.263235\n",
       "3    0.236765\n",
       "2    0.211765\n",
       "Name: warolea, dtype: float64"
      ]
     },
     "execution_count": 7,
     "metadata": {},
     "output_type": "execute_result"
    }
   ],
   "source": [
    "warrolevaluea = df[\"warolea\"].value_counts(normalize=True)\n",
    "warrolevaluea"
   ]
  },
  {
   "cell_type": "code",
   "execution_count": 8,
   "metadata": {},
   "outputs": [
    {
     "data": {
      "text/plain": [
       "1    0.288971\n",
       "3    0.252206\n",
       "4    0.248529\n",
       "2    0.210294\n",
       "Name: waroleb, dtype: float64"
      ]
     },
     "execution_count": 8,
     "metadata": {},
     "output_type": "execute_result"
    }
   ],
   "source": [
    "warrolevalueb = df[\"waroleb\"].value_counts(normalize=True)\n",
    "warrolevalueb"
   ]
  },
  {
   "cell_type": "code",
   "execution_count": 9,
   "metadata": {},
   "outputs": [],
   "source": [
    "war_role_a_dummy = pd.get_dummies(df[\"warolea\"], prefix=\"Role_A\", drop_first=True)"
   ]
  },
  {
   "cell_type": "code",
   "execution_count": 10,
   "metadata": {},
   "outputs": [],
   "source": [
    "war_role_b_dummy = pd.get_dummies(df[\"waroleb\"], prefix=\"Role_B\", drop_first=True)"
   ]
  },
  {
   "cell_type": "code",
   "execution_count": 11,
   "metadata": {},
   "outputs": [],
   "source": [
    "df = pd.concat([df, war_role_a_dummy, war_role_b_dummy], axis=\"columns\")"
   ]
  },
  {
   "cell_type": "code",
   "execution_count": 12,
   "metadata": {},
   "outputs": [],
   "source": [
    "df = df.drop(columns=[\"warolea\", \"waroleb\", \"wardyadrolea\", \"wardyadroleb\"])"
   ]
  },
  {
   "cell_type": "code",
   "execution_count": 13,
   "metadata": {},
   "outputs": [
    {
     "data": {
      "text/html": [
       "<div>\n",
       "<style scoped>\n",
       "    .dataframe tbody tr th:only-of-type {\n",
       "        vertical-align: middle;\n",
       "    }\n",
       "\n",
       "    .dataframe tbody tr th {\n",
       "        vertical-align: top;\n",
       "    }\n",
       "\n",
       "    .dataframe thead th {\n",
       "        text-align: right;\n",
       "    }\n",
       "</style>\n",
       "<table border=\"1\" class=\"dataframe\">\n",
       "  <thead>\n",
       "    <tr style=\"text-align: right;\">\n",
       "      <th></th>\n",
       "      <th>stateabb</th>\n",
       "      <th>statea</th>\n",
       "      <th>year</th>\n",
       "      <th>defensebudget</th>\n",
       "      <th>milsize</th>\n",
       "      <th>IronSteelProduct</th>\n",
       "      <th>EnergyUse</th>\n",
       "      <th>totalpop</th>\n",
       "      <th>urbanpop</th>\n",
       "      <th>CINC_Score_A</th>\n",
       "      <th>version_x</th>\n",
       "      <th>stateb</th>\n",
       "      <th>warstrtmnth</th>\n",
       "      <th>warstrtday</th>\n",
       "      <th>warstrtyr</th>\n",
       "      <th>warendmnth</th>\n",
       "      <th>warenday</th>\n",
       "      <th>warendyr</th>\n",
       "      <th>outcomea</th>\n",
       "      <th>batdtha</th>\n",
       "      <th>batdthb</th>\n",
       "      <th>durindx</th>\n",
       "      <th>diff_in_days</th>\n",
       "      <th>diff_in_deaths</th>\n",
       "      <th>total_battle_dths</th>\n",
       "      <th>CINC_Score_B</th>\n",
       "      <th>version_y</th>\n",
       "      <th>diff_CINC</th>\n",
       "      <th>Role_A_2</th>\n",
       "      <th>Role_A_3</th>\n",
       "      <th>Role_A_4</th>\n",
       "      <th>Role_B_2</th>\n",
       "      <th>Role_B_3</th>\n",
       "      <th>Role_B_4</th>\n",
       "    </tr>\n",
       "  </thead>\n",
       "  <tbody>\n",
       "    <tr>\n",
       "      <th>0</th>\n",
       "      <td>USA</td>\n",
       "      <td>2</td>\n",
       "      <td>1846</td>\n",
       "      <td>9506.0</td>\n",
       "      <td>39.0</td>\n",
       "      <td>777.0</td>\n",
       "      <td>4863.0</td>\n",
       "      <td>20794.0</td>\n",
       "      <td>846.0</td>\n",
       "      <td>0.082757</td>\n",
       "      <td>2011</td>\n",
       "      <td>70</td>\n",
       "      <td>4</td>\n",
       "      <td>25</td>\n",
       "      <td>1846</td>\n",
       "      <td>9</td>\n",
       "      <td>14</td>\n",
       "      <td>1847</td>\n",
       "      <td>1.0</td>\n",
       "      <td>13283.0</td>\n",
       "      <td>6000.0</td>\n",
       "      <td>1</td>\n",
       "      <td>507</td>\n",
       "      <td>7283.0</td>\n",
       "      <td>19283.0</td>\n",
       "      <td>0.017940</td>\n",
       "      <td>2011</td>\n",
       "      <td>0.064818</td>\n",
       "      <td>0</td>\n",
       "      <td>0</td>\n",
       "      <td>0</td>\n",
       "      <td>0</td>\n",
       "      <td>1</td>\n",
       "      <td>0</td>\n",
       "    </tr>\n",
       "    <tr>\n",
       "      <th>1</th>\n",
       "      <td>USA</td>\n",
       "      <td>2</td>\n",
       "      <td>1847</td>\n",
       "      <td>7431.0</td>\n",
       "      <td>58.0</td>\n",
       "      <td>813.0</td>\n",
       "      <td>5767.0</td>\n",
       "      <td>21406.0</td>\n",
       "      <td>918.0</td>\n",
       "      <td>0.084510</td>\n",
       "      <td>2011</td>\n",
       "      <td>70</td>\n",
       "      <td>4</td>\n",
       "      <td>25</td>\n",
       "      <td>1846</td>\n",
       "      <td>9</td>\n",
       "      <td>14</td>\n",
       "      <td>1847</td>\n",
       "      <td>1.0</td>\n",
       "      <td>13283.0</td>\n",
       "      <td>6000.0</td>\n",
       "      <td>2</td>\n",
       "      <td>507</td>\n",
       "      <td>7283.0</td>\n",
       "      <td>19283.0</td>\n",
       "      <td>0.008620</td>\n",
       "      <td>2011</td>\n",
       "      <td>0.075890</td>\n",
       "      <td>0</td>\n",
       "      <td>0</td>\n",
       "      <td>0</td>\n",
       "      <td>0</td>\n",
       "      <td>1</td>\n",
       "      <td>0</td>\n",
       "    </tr>\n",
       "    <tr>\n",
       "      <th>2</th>\n",
       "      <td>USA</td>\n",
       "      <td>2</td>\n",
       "      <td>1898</td>\n",
       "      <td>60011.0</td>\n",
       "      <td>236.0</td>\n",
       "      <td>11963.0</td>\n",
       "      <td>207271.0</td>\n",
       "      <td>73494.0</td>\n",
       "      <td>13162.0</td>\n",
       "      <td>0.197062</td>\n",
       "      <td>2011</td>\n",
       "      <td>230</td>\n",
       "      <td>5</td>\n",
       "      <td>1</td>\n",
       "      <td>1898</td>\n",
       "      <td>6</td>\n",
       "      <td>17</td>\n",
       "      <td>1898</td>\n",
       "      <td>1.0</td>\n",
       "      <td>2910.0</td>\n",
       "      <td>775.0</td>\n",
       "      <td>1</td>\n",
       "      <td>47</td>\n",
       "      <td>2135.0</td>\n",
       "      <td>3685.0</td>\n",
       "      <td>0.017012</td>\n",
       "      <td>2011</td>\n",
       "      <td>0.180049</td>\n",
       "      <td>0</td>\n",
       "      <td>0</td>\n",
       "      <td>0</td>\n",
       "      <td>0</td>\n",
       "      <td>1</td>\n",
       "      <td>0</td>\n",
       "    </tr>\n",
       "    <tr>\n",
       "      <th>3</th>\n",
       "      <td>USA</td>\n",
       "      <td>2</td>\n",
       "      <td>1900</td>\n",
       "      <td>41481.0</td>\n",
       "      <td>126.0</td>\n",
       "      <td>10352.0</td>\n",
       "      <td>256081.0</td>\n",
       "      <td>76094.0</td>\n",
       "      <td>14207.0</td>\n",
       "      <td>0.187999</td>\n",
       "      <td>2011</td>\n",
       "      <td>710</td>\n",
       "      <td>6</td>\n",
       "      <td>17</td>\n",
       "      <td>1900</td>\n",
       "      <td>8</td>\n",
       "      <td>15</td>\n",
       "      <td>1900</td>\n",
       "      <td>1.0</td>\n",
       "      <td>21.0</td>\n",
       "      <td>2000.0</td>\n",
       "      <td>1</td>\n",
       "      <td>59</td>\n",
       "      <td>-1979.0</td>\n",
       "      <td>2021.0</td>\n",
       "      <td>0.119977</td>\n",
       "      <td>2011</td>\n",
       "      <td>0.068021</td>\n",
       "      <td>0</td>\n",
       "      <td>0</td>\n",
       "      <td>0</td>\n",
       "      <td>0</td>\n",
       "      <td>1</td>\n",
       "      <td>0</td>\n",
       "    </tr>\n",
       "    <tr>\n",
       "      <th>4</th>\n",
       "      <td>USA</td>\n",
       "      <td>2</td>\n",
       "      <td>1917</td>\n",
       "      <td>658584.0</td>\n",
       "      <td>644.0</td>\n",
       "      <td>45784.0</td>\n",
       "      <td>710959.0</td>\n",
       "      <td>103268.0</td>\n",
       "      <td>25310.0</td>\n",
       "      <td>0.244028</td>\n",
       "      <td>2011</td>\n",
       "      <td>255</td>\n",
       "      <td>6</td>\n",
       "      <td>27</td>\n",
       "      <td>1917</td>\n",
       "      <td>11</td>\n",
       "      <td>11</td>\n",
       "      <td>1918</td>\n",
       "      <td>1.0</td>\n",
       "      <td>116516.0</td>\n",
       "      <td>1773700.0</td>\n",
       "      <td>1</td>\n",
       "      <td>502</td>\n",
       "      <td>-1657184.0</td>\n",
       "      <td>1890216.0</td>\n",
       "      <td>0.158169</td>\n",
       "      <td>2011</td>\n",
       "      <td>0.085859</td>\n",
       "      <td>0</td>\n",
       "      <td>0</td>\n",
       "      <td>1</td>\n",
       "      <td>0</td>\n",
       "      <td>0</td>\n",
       "      <td>0</td>\n",
       "    </tr>\n",
       "  </tbody>\n",
       "</table>\n",
       "</div>"
      ],
      "text/plain": [
       "  stateabb  statea  year  defensebudget  milsize  IronSteelProduct  EnergyUse  \\\n",
       "0      USA       2  1846         9506.0     39.0             777.0     4863.0   \n",
       "1      USA       2  1847         7431.0     58.0             813.0     5767.0   \n",
       "2      USA       2  1898        60011.0    236.0           11963.0   207271.0   \n",
       "3      USA       2  1900        41481.0    126.0           10352.0   256081.0   \n",
       "4      USA       2  1917       658584.0    644.0           45784.0   710959.0   \n",
       "\n",
       "   totalpop  urbanpop  CINC_Score_A  version_x  stateb  warstrtmnth  \\\n",
       "0   20794.0     846.0      0.082757       2011      70            4   \n",
       "1   21406.0     918.0      0.084510       2011      70            4   \n",
       "2   73494.0   13162.0      0.197062       2011     230            5   \n",
       "3   76094.0   14207.0      0.187999       2011     710            6   \n",
       "4  103268.0   25310.0      0.244028       2011     255            6   \n",
       "\n",
       "   warstrtday  warstrtyr  warendmnth  warenday  warendyr  outcomea   batdtha  \\\n",
       "0          25       1846           9        14      1847       1.0   13283.0   \n",
       "1          25       1846           9        14      1847       1.0   13283.0   \n",
       "2           1       1898           6        17      1898       1.0    2910.0   \n",
       "3          17       1900           8        15      1900       1.0      21.0   \n",
       "4          27       1917          11        11      1918       1.0  116516.0   \n",
       "\n",
       "     batdthb  durindx  diff_in_days  diff_in_deaths  total_battle_dths  \\\n",
       "0     6000.0        1           507          7283.0            19283.0   \n",
       "1     6000.0        2           507          7283.0            19283.0   \n",
       "2      775.0        1            47          2135.0             3685.0   \n",
       "3     2000.0        1            59         -1979.0             2021.0   \n",
       "4  1773700.0        1           502      -1657184.0          1890216.0   \n",
       "\n",
       "   CINC_Score_B  version_y  diff_CINC  Role_A_2  Role_A_3  Role_A_4  Role_B_2  \\\n",
       "0      0.017940       2011   0.064818         0         0         0         0   \n",
       "1      0.008620       2011   0.075890         0         0         0         0   \n",
       "2      0.017012       2011   0.180049         0         0         0         0   \n",
       "3      0.119977       2011   0.068021         0         0         0         0   \n",
       "4      0.158169       2011   0.085859         0         0         1         0   \n",
       "\n",
       "   Role_B_3  Role_B_4  \n",
       "0         1         0  \n",
       "1         1         0  \n",
       "2         1         0  \n",
       "3         1         0  \n",
       "4         0         0  "
      ]
     },
     "execution_count": 13,
     "metadata": {},
     "output_type": "execute_result"
    }
   ],
   "source": [
    "df.head()"
   ]
  },
  {
   "cell_type": "markdown",
   "metadata": {},
   "source": [
    "# Training a Model and Logistic Regression\n",
    "`"
   ]
  },
  {
   "cell_type": "code",
   "execution_count": 14,
   "metadata": {},
   "outputs": [
    {
     "data": {
      "text/plain": [
       "Index(['stateabb', 'statea', 'year', 'defensebudget', 'milsize',\n",
       "       'IronSteelProduct', 'EnergyUse', 'totalpop', 'urbanpop', 'CINC_Score_A',\n",
       "       'version_x', 'stateb', 'warstrtmnth', 'warstrtday', 'warstrtyr',\n",
       "       'warendmnth', 'warenday', 'warendyr', 'outcomea', 'batdtha', 'batdthb',\n",
       "       'durindx', 'diff_in_days', 'diff_in_deaths', 'total_battle_dths',\n",
       "       'CINC_Score_B', 'version_y', 'diff_CINC', 'Role_A_2', 'Role_A_3',\n",
       "       'Role_A_4', 'Role_B_2', 'Role_B_3', 'Role_B_4'],\n",
       "      dtype='object')"
      ]
     },
     "execution_count": 14,
     "metadata": {},
     "output_type": "execute_result"
    }
   ],
   "source": [
    "df.columns"
   ]
  },
  {
   "cell_type": "code",
   "execution_count": 15,
   "metadata": {},
   "outputs": [],
   "source": [
    "feature_cols = [\n",
    "    \"diff_in_days\",\n",
    "    \"diff_in_deaths\",\n",
    "    \"diff_CINC\",\n",
    "    \"total_battle_dths\",\n",
    "    \"Role_A_2\",\n",
    "    \"Role_A_3\",\n",
    "    \"Role_A_4\",\n",
    "    \"Role_B_2\",\n",
    "    \"Role_B_3\",\n",
    "    \"Role_B_4\",\n",
    "    \"Role_A_2\",\n",
    "    \"Role_A_3\",\n",
    "    \"Role_A_4\",\n",
    "    \"Role_B_2\",\n",
    "    \"Role_B_3\",\n",
    "    \"Role_B_4\",\n",
    "]\n",
    "\n",
    "X = df[feature_cols]\n",
    "y = df[\"outcomea\"]"
   ]
  },
  {
   "cell_type": "markdown",
   "metadata": {},
   "source": [
    "# Discussion of Feature Columns Chosen\n",
    "- The dataset that I have constructed examines conventional inter-state conflict in a dyadic context. The goal of my analysis is to see how well several features such as the length of the war, a state's role in a war, the differences in casualties,  and the differences in national material capabilities predict the outcome of a war (win,lose, or draw) for a state (statea).\n",
    "- I use several models to try to see how well each of them performs when it comes to predicting outcomes and which features are most important. "
   ]
  },
  {
   "cell_type": "code",
   "execution_count": 16,
   "metadata": {},
   "outputs": [],
   "source": [
    "from sklearn.linear_model import LogisticRegression\n",
    "from sklearn.model_selection import train_test_split, cross_val_score, GridSearchCV\n",
    "from sklearn.metrics import (\n",
    "    accuracy_score,\n",
    "    recall_score,\n",
    "    precision_score,\n",
    "    confusion_matrix,\n",
    ")"
   ]
  },
  {
   "cell_type": "code",
   "execution_count": 17,
   "metadata": {},
   "outputs": [],
   "source": [
    "X_train, X_test, y_train, y_test = train_test_split(X, y, random_state=0)"
   ]
  },
  {
   "cell_type": "code",
   "execution_count": 18,
   "metadata": {},
   "outputs": [],
   "source": [
    "logreg = LogisticRegression(solver=\"lbfgs\", multi_class=\"multinomial\")"
   ]
  },
  {
   "cell_type": "code",
   "execution_count": 19,
   "metadata": {},
   "outputs": [
    {
     "data": {
      "text/plain": [
       "LogisticRegression(C=1.0, class_weight=None, dual=False, fit_intercept=True,\n",
       "          intercept_scaling=1, max_iter=100, multi_class='multinomial',\n",
       "          n_jobs=None, penalty='l2', random_state=None, solver='lbfgs',\n",
       "          tol=0.0001, verbose=0, warm_start=False)"
      ]
     },
     "execution_count": 19,
     "metadata": {},
     "output_type": "execute_result"
    }
   ],
   "source": [
    "logreg.fit(X_train, y_train)"
   ]
  },
  {
   "cell_type": "code",
   "execution_count": 20,
   "metadata": {},
   "outputs": [],
   "source": [
    "y_pred = logreg.predict(X_test)"
   ]
  },
  {
   "cell_type": "code",
   "execution_count": 21,
   "metadata": {},
   "outputs": [
    {
     "data": {
      "text/plain": [
       "0.5088235294117647"
      ]
     },
     "execution_count": 21,
     "metadata": {},
     "output_type": "execute_result"
    }
   ],
   "source": [
    "logreg.score(X_test, y_test)"
   ]
  },
  {
   "cell_type": "code",
   "execution_count": 22,
   "metadata": {},
   "outputs": [
    {
     "data": {
      "text/plain": [
       "0.5088235294117647"
      ]
     },
     "execution_count": 22,
     "metadata": {},
     "output_type": "execute_result"
    }
   ],
   "source": [
    "accuracy_score(y_pred, y_test)"
   ]
  },
  {
   "cell_type": "code",
   "execution_count": 23,
   "metadata": {},
   "outputs": [
    {
     "name": "stderr",
     "output_type": "stream",
     "text": [
      "C:\\Users\\DBerl\\Anaconda3\\lib\\site-packages\\sklearn\\metrics\\classification.py:1143: UndefinedMetricWarning: Precision is ill-defined and being set to 0.0 in labels with no predicted samples.\n",
      "  'precision', 'predicted', average, warn_for)\n"
     ]
    },
    {
     "data": {
      "text/plain": [
       "array([0.48554913, 0.        , 0.53293413])"
      ]
     },
     "execution_count": 23,
     "metadata": {},
     "output_type": "execute_result"
    }
   ],
   "source": [
    "precision_score(y_test, y_pred, average=None)"
   ]
  },
  {
   "cell_type": "code",
   "execution_count": 24,
   "metadata": {},
   "outputs": [
    {
     "data": {
      "text/plain": [
       "array([[84,  0, 38],\n",
       "       [43,  0, 40],\n",
       "       [46,  0, 89]], dtype=int64)"
      ]
     },
     "execution_count": 24,
     "metadata": {},
     "output_type": "execute_result"
    }
   ],
   "source": [
    "cm = confusion_matrix(y_test, y_pred)\n",
    "cm"
   ]
  },
  {
   "cell_type": "code",
   "execution_count": 25,
   "metadata": {},
   "outputs": [],
   "source": [
    "import seaborn as sns"
   ]
  },
  {
   "cell_type": "code",
   "execution_count": 26,
   "metadata": {},
   "outputs": [
    {
     "data": {
      "text/plain": [
       "Text(0.5, 15.0, 'Predicted label')"
      ]
     },
     "execution_count": 26,
     "metadata": {},
     "output_type": "execute_result"
    },
    {
     "data": {
      "image/png": "[encoded data removed]",
      "text/plain": [
       "<Figure size 432x288 with 2 Axes>"
      ]
     },
     "metadata": {
      "needs_background": "light"
     },
     "output_type": "display_data"
    }
   ],
   "source": [
    "ax = sns.heatmap(cm, annot=True, fmt=\"d\", cmap=\"Blues\")\n",
    "ax.set_ylabel(\"True label\")\n",
    "ax.set_xlabel(\"Predicted label\")"
   ]
  },
  {
   "cell_type": "code",
   "execution_count": 27,
   "metadata": {},
   "outputs": [
    {
     "data": {
      "text/plain": [
       "3.0    535\n",
       "1.0    525\n",
       "2.0    300\n",
       "Name: outcomea, dtype: int64"
      ]
     },
     "execution_count": 27,
     "metadata": {},
     "output_type": "execute_result"
    }
   ],
   "source": [
    "df['outcomea'].value_counts()"
   ]
  },
  {
   "cell_type": "code",
   "execution_count": 28,
   "metadata": {},
   "outputs": [
    {
     "name": "stderr",
     "output_type": "stream",
     "text": [
      "C:\\Users\\DBerl\\Anaconda3\\lib\\site-packages\\sklearn\\linear_model\\logistic.py:460: FutureWarning: Default multi_class will be changed to 'auto' in 0.22. Specify the multi_class option to silence this warning.\n",
      "  \"this warning.\", FutureWarning)\n",
      "C:\\Users\\DBerl\\Anaconda3\\lib\\site-packages\\sklearn\\linear_model\\logistic.py:460: FutureWarning: Default multi_class will be changed to 'auto' in 0.22. Specify the multi_class option to silence this warning.\n",
      "  \"this warning.\", FutureWarning)\n",
      "C:\\Users\\DBerl\\Anaconda3\\lib\\site-packages\\sklearn\\linear_model\\logistic.py:460: FutureWarning: Default multi_class will be changed to 'auto' in 0.22. Specify the multi_class option to silence this warning.\n",
      "  \"this warning.\", FutureWarning)\n",
      "C:\\Users\\DBerl\\Anaconda3\\lib\\site-packages\\sklearn\\linear_model\\logistic.py:460: FutureWarning: Default multi_class will be changed to 'auto' in 0.22. Specify the multi_class option to silence this warning.\n",
      "  \"this warning.\", FutureWarning)\n",
      "C:\\Users\\DBerl\\Anaconda3\\lib\\site-packages\\sklearn\\linear_model\\logistic.py:460: FutureWarning: Default multi_class will be changed to 'auto' in 0.22. Specify the multi_class option to silence this warning.\n",
      "  \"this warning.\", FutureWarning)\n"
     ]
    },
    {
     "data": {
      "text/plain": [
       "0.35955882352941176"
      ]
     },
     "execution_count": 28,
     "metadata": {},
     "output_type": "execute_result"
    }
   ],
   "source": [
    "cross_val_score(LogisticRegression(solver=\"lbfgs\"), X, y, cv=5).mean()"
   ]
  },
  {
   "cell_type": "code",
   "execution_count": 29,
   "metadata": {},
   "outputs": [],
   "source": [
    "logreg = LogisticRegression(solver=\"lbfgs\", n_jobs=-1)\n",
    "\n",
    "params = {\"fit_intercept\": [True, False], \"C\": [1.0, 0.1, 0.01, 0.001]}\n",
    "\n",
    "clf = GridSearchCV(logreg, params, cv=5, verbose=1, n_jobs=-1)"
   ]
  },
  {
   "cell_type": "code",
   "execution_count": 30,
   "metadata": {},
   "outputs": [
    {
     "name": "stdout",
     "output_type": "stream",
     "text": [
      "Fitting 5 folds for each of 8 candidates, totalling 40 fits\n"
     ]
    },
    {
     "name": "stderr",
     "output_type": "stream",
     "text": [
      "[Parallel(n_jobs=-1)]: Using backend LokyBackend with 4 concurrent workers.\n",
      "[Parallel(n_jobs=-1)]: Done  40 out of  40 | elapsed:    7.9s finished\n",
      "C:\\Users\\DBerl\\Anaconda3\\lib\\site-packages\\sklearn\\linear_model\\logistic.py:460: FutureWarning: Default multi_class will be changed to 'auto' in 0.22. Specify the multi_class option to silence this warning.\n",
      "  \"this warning.\", FutureWarning)\n"
     ]
    },
    {
     "data": {
      "text/plain": [
       "GridSearchCV(cv=5, error_score='raise-deprecating',\n",
       "       estimator=LogisticRegression(C=1.0, class_weight=None, dual=False, fit_intercept=True,\n",
       "          intercept_scaling=1, max_iter=100, multi_class='warn', n_jobs=-1,\n",
       "          penalty='l2', random_state=None, solver='lbfgs', tol=0.0001,\n",
       "          verbose=0, warm_start=False),\n",
       "       fit_params=None, iid='warn', n_jobs=-1,\n",
       "       param_grid={'fit_intercept': [True, False], 'C': [1.0, 0.1, 0.01, 0.001]},\n",
       "       pre_dispatch='2*n_jobs', refit=True, return_train_score='warn',\n",
       "       scoring=None, verbose=1)"
      ]
     },
     "execution_count": 30,
     "metadata": {},
     "output_type": "execute_result"
    }
   ],
   "source": [
    "clf.fit(X_train, y_train)"
   ]
  },
  {
   "cell_type": "code",
   "execution_count": 31,
   "metadata": {},
   "outputs": [
    {
     "data": {
      "text/plain": [
       "0.442156862745098"
      ]
     },
     "execution_count": 31,
     "metadata": {},
     "output_type": "execute_result"
    }
   ],
   "source": [
    "clf.best_score_ "
   ]
  },
  {
   "cell_type": "code",
   "execution_count": 32,
   "metadata": {},
   "outputs": [
    {
     "data": {
      "text/plain": [
       "{'C': 1.0, 'fit_intercept': True}"
      ]
     },
     "execution_count": 32,
     "metadata": {},
     "output_type": "execute_result"
    }
   ],
   "source": [
    "clf.best_params_"
   ]
  },
  {
   "cell_type": "code",
   "execution_count": 33,
   "metadata": {},
   "outputs": [],
   "source": [
    "y_pred = clf.predict(X_test)"
   ]
  },
  {
   "cell_type": "code",
   "execution_count": 34,
   "metadata": {},
   "outputs": [
    {
     "data": {
      "text/plain": [
       "0.45294117647058824"
      ]
     },
     "execution_count": 34,
     "metadata": {},
     "output_type": "execute_result"
    }
   ],
   "source": [
    "clf.score(X_test, y_test)"
   ]
  },
  {
   "cell_type": "code",
   "execution_count": 35,
   "metadata": {},
   "outputs": [],
   "source": [
    "# We saw a noticeable drop in accuracy following the use of k-fold cross validation. "
   ]
  },
  {
   "cell_type": "markdown",
   "metadata": {},
   "source": [
    "# K Nearest Neighbors"
   ]
  },
  {
   "cell_type": "code",
   "execution_count": 36,
   "metadata": {},
   "outputs": [],
   "source": [
    "from sklearn.neighbors import KNeighborsClassifier\n",
    "from sklearn.model_selection import train_test_split\n",
    "from sklearn import metrics\n",
    "from sklearn.model_selection import cross_val_score\n",
    "from sklearn.model_selection import GridSearchCV\n",
    "import pandas as pd"
   ]
  },
  {
   "cell_type": "code",
   "execution_count": 37,
   "metadata": {},
   "outputs": [],
   "source": [
    "feature_cols = [\n",
    "    \"diff_in_days\",\n",
    "    \"diff_in_deaths\",\n",
    "    \"diff_CINC\",\n",
    "    \"total_battle_dths\",\n",
    "    \"Role_A_2\",\n",
    "    \"Role_A_3\",\n",
    "    \"Role_A_4\",\n",
    "    \"Role_B_2\",\n",
    "    \"Role_B_3\",\n",
    "    \"Role_B_4\",\n",
    "    \"Role_A_2\",\n",
    "    \"Role_A_3\",\n",
    "    \"Role_A_4\",\n",
    "    \"Role_B_2\",\n",
    "    \"Role_B_3\",\n",
    "    \"Role_B_4\",\n",
    "]\n",
    "\n",
    "X = df[feature_cols]\n",
    "y = df[\"outcomea\"]"
   ]
  },
  {
   "cell_type": "code",
   "execution_count": 38,
   "metadata": {},
   "outputs": [],
   "source": [
    "X_train, X_test, y_train, y_test = train_test_split(X, y, random_state=1)"
   ]
  },
  {
   "cell_type": "code",
   "execution_count": 39,
   "metadata": {},
   "outputs": [],
   "source": [
    "knn = KNeighborsClassifier(n_jobs=-1)"
   ]
  },
  {
   "cell_type": "code",
   "execution_count": 40,
   "metadata": {},
   "outputs": [
    {
     "data": {
      "text/plain": [
       "KNeighborsClassifier(algorithm='auto', leaf_size=30, metric='minkowski',\n",
       "           metric_params=None, n_jobs=-1, n_neighbors=5, p=2,\n",
       "           weights='uniform')"
      ]
     },
     "execution_count": 40,
     "metadata": {},
     "output_type": "execute_result"
    }
   ],
   "source": [
    "knn"
   ]
  },
  {
   "cell_type": "code",
   "execution_count": 41,
   "metadata": {},
   "outputs": [],
   "source": [
    "parameters = {\"n_neighbors\": range(1, 100), \"weights\": [\"uniform\", \"distance\"]}\n",
    "\n",
    "clf = GridSearchCV(knn, parameters, cv=5, scoring=\"accuracy\", verbose=1)"
   ]
  },
  {
   "cell_type": "code",
   "execution_count": 42,
   "metadata": {},
   "outputs": [
    {
     "name": "stdout",
     "output_type": "stream",
     "text": [
      "Fitting 5 folds for each of 198 candidates, totalling 990 fits\n"
     ]
    },
    {
     "name": "stderr",
     "output_type": "stream",
     "text": [
      "[Parallel(n_jobs=1)]: Using backend SequentialBackend with 1 concurrent workers.\n"
     ]
    },
    {
     "name": "stdout",
     "output_type": "stream",
     "text": [
      "Wall time: 33.7 s\n"
     ]
    },
    {
     "name": "stderr",
     "output_type": "stream",
     "text": [
      "[Parallel(n_jobs=1)]: Done 990 out of 990 | elapsed:   33.5s finished\n"
     ]
    },
    {
     "data": {
      "text/plain": [
       "GridSearchCV(cv=5, error_score='raise-deprecating',\n",
       "       estimator=KNeighborsClassifier(algorithm='auto', leaf_size=30, metric='minkowski',\n",
       "           metric_params=None, n_jobs=-1, n_neighbors=5, p=2,\n",
       "           weights='uniform'),\n",
       "       fit_params=None, iid='warn', n_jobs=None,\n",
       "       param_grid={'n_neighbors': range(1, 100), 'weights': ['uniform', 'distance']},\n",
       "       pre_dispatch='2*n_jobs', refit=True, return_train_score='warn',\n",
       "       scoring='accuracy', verbose=1)"
      ]
     },
     "execution_count": 42,
     "metadata": {},
     "output_type": "execute_result"
    }
   ],
   "source": [
    "%%time\n",
    "clf.fit(X_train, y_train)"
   ]
  },
  {
   "cell_type": "code",
   "execution_count": 43,
   "metadata": {},
   "outputs": [
    {
     "data": {
      "text/plain": [
       "{'n_neighbors': 14, 'weights': 'distance'}"
      ]
     },
     "execution_count": 43,
     "metadata": {},
     "output_type": "execute_result"
    }
   ],
   "source": [
    "clf.best_params_"
   ]
  },
  {
   "cell_type": "code",
   "execution_count": 44,
   "metadata": {},
   "outputs": [
    {
     "data": {
      "text/plain": [
       "0.8980392156862745"
      ]
     },
     "execution_count": 44,
     "metadata": {},
     "output_type": "execute_result"
    }
   ],
   "source": [
    "clf.best_score_"
   ]
  },
  {
   "cell_type": "code",
   "execution_count": 45,
   "metadata": {},
   "outputs": [
    {
     "name": "stderr",
     "output_type": "stream",
     "text": [
      "C:\\Users\\DBerl\\Anaconda3\\lib\\site-packages\\sklearn\\utils\\deprecation.py:125: FutureWarning: You are accessing a training score ('split0_train_score'), which will not be available by default any more in 0.21. If you need training scores, please set return_train_score=True\n",
      "  warnings.warn(*warn_args, **warn_kwargs)\n",
      "C:\\Users\\DBerl\\Anaconda3\\lib\\site-packages\\sklearn\\utils\\deprecation.py:125: FutureWarning: You are accessing a training score ('split1_train_score'), which will not be available by default any more in 0.21. If you need training scores, please set return_train_score=True\n",
      "  warnings.warn(*warn_args, **warn_kwargs)\n",
      "C:\\Users\\DBerl\\Anaconda3\\lib\\site-packages\\sklearn\\utils\\deprecation.py:125: FutureWarning: You are accessing a training score ('split2_train_score'), which will not be available by default any more in 0.21. If you need training scores, please set return_train_score=True\n",
      "  warnings.warn(*warn_args, **warn_kwargs)\n",
      "C:\\Users\\DBerl\\Anaconda3\\lib\\site-packages\\sklearn\\utils\\deprecation.py:125: FutureWarning: You are accessing a training score ('split3_train_score'), which will not be available by default any more in 0.21. If you need training scores, please set return_train_score=True\n",
      "  warnings.warn(*warn_args, **warn_kwargs)\n",
      "C:\\Users\\DBerl\\Anaconda3\\lib\\site-packages\\sklearn\\utils\\deprecation.py:125: FutureWarning: You are accessing a training score ('split4_train_score'), which will not be available by default any more in 0.21. If you need training scores, please set return_train_score=True\n",
      "  warnings.warn(*warn_args, **warn_kwargs)\n",
      "C:\\Users\\DBerl\\Anaconda3\\lib\\site-packages\\sklearn\\utils\\deprecation.py:125: FutureWarning: You are accessing a training score ('mean_train_score'), which will not be available by default any more in 0.21. If you need training scores, please set return_train_score=True\n",
      "  warnings.warn(*warn_args, **warn_kwargs)\n",
      "C:\\Users\\DBerl\\Anaconda3\\lib\\site-packages\\sklearn\\utils\\deprecation.py:125: FutureWarning: You are accessing a training score ('std_train_score'), which will not be available by default any more in 0.21. If you need training scores, please set return_train_score=True\n",
      "  warnings.warn(*warn_args, **warn_kwargs)\n"
     ]
    },
    {
     "data": {
      "text/html": [
       "<div>\n",
       "<style scoped>\n",
       "    .dataframe tbody tr th:only-of-type {\n",
       "        vertical-align: middle;\n",
       "    }\n",
       "\n",
       "    .dataframe tbody tr th {\n",
       "        vertical-align: top;\n",
       "    }\n",
       "\n",
       "    .dataframe thead th {\n",
       "        text-align: right;\n",
       "    }\n",
       "</style>\n",
       "<table border=\"1\" class=\"dataframe\">\n",
       "  <thead>\n",
       "    <tr style=\"text-align: right;\">\n",
       "      <th></th>\n",
       "      <th>mean_fit_time</th>\n",
       "      <th>std_fit_time</th>\n",
       "      <th>mean_score_time</th>\n",
       "      <th>std_score_time</th>\n",
       "      <th>param_n_neighbors</th>\n",
       "      <th>param_weights</th>\n",
       "      <th>params</th>\n",
       "      <th>split0_test_score</th>\n",
       "      <th>split1_test_score</th>\n",
       "      <th>split2_test_score</th>\n",
       "      <th>split3_test_score</th>\n",
       "      <th>split4_test_score</th>\n",
       "      <th>mean_test_score</th>\n",
       "      <th>std_test_score</th>\n",
       "      <th>rank_test_score</th>\n",
       "      <th>split0_train_score</th>\n",
       "      <th>split1_train_score</th>\n",
       "      <th>split2_train_score</th>\n",
       "      <th>split3_train_score</th>\n",
       "      <th>split4_train_score</th>\n",
       "      <th>mean_train_score</th>\n",
       "      <th>std_train_score</th>\n",
       "    </tr>\n",
       "  </thead>\n",
       "  <tbody>\n",
       "    <tr>\n",
       "      <th>0</th>\n",
       "      <td>0.040080</td>\n",
       "      <td>0.080159</td>\n",
       "      <td>0.027510</td>\n",
       "      <td>0.014151</td>\n",
       "      <td>1</td>\n",
       "      <td>uniform</td>\n",
       "      <td>{'n_neighbors': 1, 'weights': 'uniform'}</td>\n",
       "      <td>0.902439</td>\n",
       "      <td>0.921569</td>\n",
       "      <td>0.872549</td>\n",
       "      <td>0.872549</td>\n",
       "      <td>0.901478</td>\n",
       "      <td>0.894118</td>\n",
       "      <td>0.019013</td>\n",
       "      <td>11</td>\n",
       "      <td>1.000000</td>\n",
       "      <td>1.000000</td>\n",
       "      <td>1.000000</td>\n",
       "      <td>1.000000</td>\n",
       "      <td>1.000000</td>\n",
       "      <td>1.000000</td>\n",
       "      <td>0.000000</td>\n",
       "    </tr>\n",
       "    <tr>\n",
       "      <th>1</th>\n",
       "      <td>0.006255</td>\n",
       "      <td>0.007661</td>\n",
       "      <td>0.006243</td>\n",
       "      <td>0.007646</td>\n",
       "      <td>1</td>\n",
       "      <td>distance</td>\n",
       "      <td>{'n_neighbors': 1, 'weights': 'distance'}</td>\n",
       "      <td>0.902439</td>\n",
       "      <td>0.921569</td>\n",
       "      <td>0.872549</td>\n",
       "      <td>0.872549</td>\n",
       "      <td>0.901478</td>\n",
       "      <td>0.894118</td>\n",
       "      <td>0.019013</td>\n",
       "      <td>11</td>\n",
       "      <td>1.000000</td>\n",
       "      <td>1.000000</td>\n",
       "      <td>1.000000</td>\n",
       "      <td>1.000000</td>\n",
       "      <td>1.000000</td>\n",
       "      <td>1.000000</td>\n",
       "      <td>0.000000</td>\n",
       "    </tr>\n",
       "    <tr>\n",
       "      <th>2</th>\n",
       "      <td>0.000000</td>\n",
       "      <td>0.000000</td>\n",
       "      <td>0.010674</td>\n",
       "      <td>0.009033</td>\n",
       "      <td>2</td>\n",
       "      <td>uniform</td>\n",
       "      <td>{'n_neighbors': 2, 'weights': 'uniform'}</td>\n",
       "      <td>0.868293</td>\n",
       "      <td>0.872549</td>\n",
       "      <td>0.848039</td>\n",
       "      <td>0.818627</td>\n",
       "      <td>0.891626</td>\n",
       "      <td>0.859804</td>\n",
       "      <td>0.024805</td>\n",
       "      <td>101</td>\n",
       "      <td>0.950920</td>\n",
       "      <td>0.943627</td>\n",
       "      <td>0.957108</td>\n",
       "      <td>0.947304</td>\n",
       "      <td>0.942472</td>\n",
       "      <td>0.948286</td>\n",
       "      <td>0.005315</td>\n",
       "    </tr>\n",
       "    <tr>\n",
       "      <th>3</th>\n",
       "      <td>0.006250</td>\n",
       "      <td>0.007655</td>\n",
       "      <td>0.010688</td>\n",
       "      <td>0.009050</td>\n",
       "      <td>2</td>\n",
       "      <td>distance</td>\n",
       "      <td>{'n_neighbors': 2, 'weights': 'distance'}</td>\n",
       "      <td>0.902439</td>\n",
       "      <td>0.921569</td>\n",
       "      <td>0.872549</td>\n",
       "      <td>0.872549</td>\n",
       "      <td>0.901478</td>\n",
       "      <td>0.894118</td>\n",
       "      <td>0.019013</td>\n",
       "      <td>11</td>\n",
       "      <td>1.000000</td>\n",
       "      <td>1.000000</td>\n",
       "      <td>1.000000</td>\n",
       "      <td>1.000000</td>\n",
       "      <td>1.000000</td>\n",
       "      <td>1.000000</td>\n",
       "      <td>0.000000</td>\n",
       "    </tr>\n",
       "    <tr>\n",
       "      <th>4</th>\n",
       "      <td>0.000000</td>\n",
       "      <td>0.000000</td>\n",
       "      <td>0.015637</td>\n",
       "      <td>0.000014</td>\n",
       "      <td>3</td>\n",
       "      <td>uniform</td>\n",
       "      <td>{'n_neighbors': 3, 'weights': 'uniform'}</td>\n",
       "      <td>0.800000</td>\n",
       "      <td>0.828431</td>\n",
       "      <td>0.857843</td>\n",
       "      <td>0.818627</td>\n",
       "      <td>0.876847</td>\n",
       "      <td>0.836275</td>\n",
       "      <td>0.027563</td>\n",
       "      <td>102</td>\n",
       "      <td>0.919018</td>\n",
       "      <td>0.911765</td>\n",
       "      <td>0.925245</td>\n",
       "      <td>0.928922</td>\n",
       "      <td>0.915545</td>\n",
       "      <td>0.920099</td>\n",
       "      <td>0.006256</td>\n",
       "    </tr>\n",
       "  </tbody>\n",
       "</table>\n",
       "</div>"
      ],
      "text/plain": [
       "   mean_fit_time  std_fit_time  mean_score_time  std_score_time  \\\n",
       "0       0.040080      0.080159         0.027510        0.014151   \n",
       "1       0.006255      0.007661         0.006243        0.007646   \n",
       "2       0.000000      0.000000         0.010674        0.009033   \n",
       "3       0.006250      0.007655         0.010688        0.009050   \n",
       "4       0.000000      0.000000         0.015637        0.000014   \n",
       "\n",
       "  param_n_neighbors param_weights                                     params  \\\n",
       "0                 1       uniform   {'n_neighbors': 1, 'weights': 'uniform'}   \n",
       "1                 1      distance  {'n_neighbors': 1, 'weights': 'distance'}   \n",
       "2                 2       uniform   {'n_neighbors': 2, 'weights': 'uniform'}   \n",
       "3                 2      distance  {'n_neighbors': 2, 'weights': 'distance'}   \n",
       "4                 3       uniform   {'n_neighbors': 3, 'weights': 'uniform'}   \n",
       "\n",
       "   split0_test_score  split1_test_score  split2_test_score  split3_test_score  \\\n",
       "0           0.902439           0.921569           0.872549           0.872549   \n",
       "1           0.902439           0.921569           0.872549           0.872549   \n",
       "2           0.868293           0.872549           0.848039           0.818627   \n",
       "3           0.902439           0.921569           0.872549           0.872549   \n",
       "4           0.800000           0.828431           0.857843           0.818627   \n",
       "\n",
       "   split4_test_score  mean_test_score  std_test_score  rank_test_score  \\\n",
       "0           0.901478         0.894118        0.019013               11   \n",
       "1           0.901478         0.894118        0.019013               11   \n",
       "2           0.891626         0.859804        0.024805              101   \n",
       "3           0.901478         0.894118        0.019013               11   \n",
       "4           0.876847         0.836275        0.027563              102   \n",
       "\n",
       "   split0_train_score  split1_train_score  split2_train_score  \\\n",
       "0            1.000000            1.000000            1.000000   \n",
       "1            1.000000            1.000000            1.000000   \n",
       "2            0.950920            0.943627            0.957108   \n",
       "3            1.000000            1.000000            1.000000   \n",
       "4            0.919018            0.911765            0.925245   \n",
       "\n",
       "   split3_train_score  split4_train_score  mean_train_score  std_train_score  \n",
       "0            1.000000            1.000000          1.000000         0.000000  \n",
       "1            1.000000            1.000000          1.000000         0.000000  \n",
       "2            0.947304            0.942472          0.948286         0.005315  \n",
       "3            1.000000            1.000000          1.000000         0.000000  \n",
       "4            0.928922            0.915545          0.920099         0.006256  "
      ]
     },
     "execution_count": 45,
     "metadata": {},
     "output_type": "execute_result"
    }
   ],
   "source": [
    "clf_results = pd.DataFrame(clf.cv_results_)\n",
    "clf_results.head()"
   ]
  },
  {
   "cell_type": "code",
   "execution_count": 46,
   "metadata": {},
   "outputs": [],
   "source": [
    "y_pred = clf.predict(X_test)"
   ]
  },
  {
   "cell_type": "code",
   "execution_count": 47,
   "metadata": {},
   "outputs": [
    {
     "data": {
      "text/plain": [
       "0.9264705882352942"
      ]
     },
     "execution_count": 47,
     "metadata": {},
     "output_type": "execute_result"
    }
   ],
   "source": [
    "metrics.accuracy_score(y_test, y_pred)"
   ]
  },
  {
   "cell_type": "code",
   "execution_count": 48,
   "metadata": {},
   "outputs": [],
   "source": [
    "import matplotlib.pyplot as plt\n",
    "%matplotlib inline"
   ]
  },
  {
   "cell_type": "code",
   "execution_count": 49,
   "metadata": {},
   "outputs": [
    {
     "data": {
      "text/plain": [
       "Text(0.5, 15.0, 'Predicted label')"
      ]
     },
     "execution_count": 49,
     "metadata": {},
     "output_type": "execute_result"
    },
    {
     "data": {
      "image/png": "[encoded data removed]",
      "text/plain": [
       "<Figure size 432x288 with 2 Axes>"
      ]
     },
     "metadata": {
      "needs_background": "light"
     },
     "output_type": "display_data"
    }
   ],
   "source": [
    "cm = confusion_matrix(y_test, y_pred)\n",
    "\n",
    "sns.heatmap(cm, annot=True, fmt=\"d\", linewidths=0.5)\n",
    "\n",
    "plt.ylabel(\"True label\")\n",
    "plt.xlabel(\"Predicted label\")"
   ]
  },
  {
   "cell_type": "code",
   "execution_count": 50,
   "metadata": {},
   "outputs": [
    {
     "data": {
      "text/plain": [
       "(340,)"
      ]
     },
     "execution_count": 50,
     "metadata": {},
     "output_type": "execute_result"
    }
   ],
   "source": [
    "y_test.shape"
   ]
  },
  {
   "cell_type": "code",
   "execution_count": 51,
   "metadata": {},
   "outputs": [
    {
     "data": {
      "text/plain": [
       "Text(0.5, 15.0, 'Predicted label')"
      ]
     },
     "execution_count": 51,
     "metadata": {},
     "output_type": "execute_result"
    },
    {
     "data": {
      "image/png": "[encoded data removed]",
      "text/plain": [
       "<Figure size 432x288 with 2 Axes>"
      ]
     },
     "metadata": {
      "needs_background": "light"
     },
     "output_type": "display_data"
    }
   ],
   "source": [
    "cm_norm = cm / cm.sum(axis=1)\n",
    "\n",
    "sns.heatmap(cm_norm, annot=True, linewidths=0.5, cmap=\"Blues\")\n",
    "\n",
    "plt.ylabel(\"True label\")\n",
    "plt.xlabel(\"Predicted label\")"
   ]
  },
  {
   "cell_type": "code",
   "execution_count": 52,
   "metadata": {},
   "outputs": [
    {
     "data": {
      "text/plain": [
       "3.0    0.397059\n",
       "1.0    0.381373\n",
       "2.0    0.221569\n",
       "Name: outcomea, dtype: float64"
      ]
     },
     "execution_count": 52,
     "metadata": {},
     "output_type": "execute_result"
    }
   ],
   "source": [
    "y_train.value_counts(normalize=True)"
   ]
  },
  {
   "cell_type": "code",
   "execution_count": 53,
   "metadata": {},
   "outputs": [],
   "source": [
    "from sklearn.dummy import DummyClassifier"
   ]
  },
  {
   "cell_type": "code",
   "execution_count": 54,
   "metadata": {},
   "outputs": [],
   "source": [
    "dummy_knrf = DummyClassifier()"
   ]
  },
  {
   "cell_type": "code",
   "execution_count": 55,
   "metadata": {},
   "outputs": [
    {
     "data": {
      "text/plain": [
       "DummyClassifier(constant=None, random_state=None, strategy='stratified')"
      ]
     },
     "execution_count": 55,
     "metadata": {},
     "output_type": "execute_result"
    }
   ],
   "source": [
    "dummy_knrf.fit(X_train, y_train)"
   ]
  },
  {
   "cell_type": "code",
   "execution_count": 56,
   "metadata": {},
   "outputs": [],
   "source": [
    "y_dummy_kn = dummy_knrf.predict(X_test)"
   ]
  },
  {
   "cell_type": "code",
   "execution_count": 57,
   "metadata": {},
   "outputs": [
    {
     "data": {
      "text/plain": [
       "0.34705882352941175"
      ]
     },
     "execution_count": 57,
     "metadata": {},
     "output_type": "execute_result"
    }
   ],
   "source": [
    "accuracy_score(y_test, y_dummy_kn)"
   ]
  },
  {
   "cell_type": "code",
   "execution_count": 58,
   "metadata": {},
   "outputs": [],
   "source": [
    "# As we can see from comparing the accuracy scores of the knn model with the dummy classifier, the knn model produces \n",
    "# results that are far better than if we had simply guessed."
   ]
  },
  {
   "cell_type": "markdown",
   "metadata": {},
   "source": [
    "# Random Forests "
   ]
  },
  {
   "cell_type": "code",
   "execution_count": 59,
   "metadata": {},
   "outputs": [],
   "source": [
    "from sklearn.ensemble import RandomForestRegressor"
   ]
  },
  {
   "cell_type": "code",
   "execution_count": 60,
   "metadata": {},
   "outputs": [
    {
     "data": {
      "text/plain": [
       "RandomForestRegressor(bootstrap=True, criterion='mse', max_depth=None,\n",
       "           max_features=5, max_leaf_nodes=None, min_impurity_decrease=0.0,\n",
       "           min_impurity_split=None, min_samples_leaf=1,\n",
       "           min_samples_split=2, min_weight_fraction_leaf=0.0,\n",
       "           n_estimators=150, n_jobs=None, oob_score=True, random_state=1,\n",
       "           verbose=0, warm_start=False)"
      ]
     },
     "execution_count": 60,
     "metadata": {},
     "output_type": "execute_result"
    }
   ],
   "source": [
    "rfreg = RandomForestRegressor(\n",
    "    n_estimators=150, max_features=5, oob_score=True, random_state=1\n",
    ")\n",
    "rfreg.fit(X, y)"
   ]
  },
  {
   "cell_type": "code",
   "execution_count": 61,
   "metadata": {},
   "outputs": [
    {
     "data": {
      "text/html": [
       "<div>\n",
       "<style scoped>\n",
       "    .dataframe tbody tr th:only-of-type {\n",
       "        vertical-align: middle;\n",
       "    }\n",
       "\n",
       "    .dataframe tbody tr th {\n",
       "        vertical-align: top;\n",
       "    }\n",
       "\n",
       "    .dataframe thead th {\n",
       "        text-align: right;\n",
       "    }\n",
       "</style>\n",
       "<table border=\"1\" class=\"dataframe\">\n",
       "  <thead>\n",
       "    <tr style=\"text-align: right;\">\n",
       "      <th></th>\n",
       "      <th>feature</th>\n",
       "      <th>importance</th>\n",
       "    </tr>\n",
       "  </thead>\n",
       "  <tbody>\n",
       "    <tr>\n",
       "      <th>13</th>\n",
       "      <td>Role_B_2</td>\n",
       "      <td>0.005734</td>\n",
       "    </tr>\n",
       "    <tr>\n",
       "      <th>7</th>\n",
       "      <td>Role_B_2</td>\n",
       "      <td>0.006343</td>\n",
       "    </tr>\n",
       "    <tr>\n",
       "      <th>10</th>\n",
       "      <td>Role_A_2</td>\n",
       "      <td>0.006687</td>\n",
       "    </tr>\n",
       "    <tr>\n",
       "      <th>4</th>\n",
       "      <td>Role_A_2</td>\n",
       "      <td>0.007569</td>\n",
       "    </tr>\n",
       "    <tr>\n",
       "      <th>8</th>\n",
       "      <td>Role_B_3</td>\n",
       "      <td>0.018610</td>\n",
       "    </tr>\n",
       "    <tr>\n",
       "      <th>11</th>\n",
       "      <td>Role_A_3</td>\n",
       "      <td>0.019757</td>\n",
       "    </tr>\n",
       "    <tr>\n",
       "      <th>5</th>\n",
       "      <td>Role_A_3</td>\n",
       "      <td>0.019880</td>\n",
       "    </tr>\n",
       "    <tr>\n",
       "      <th>9</th>\n",
       "      <td>Role_B_4</td>\n",
       "      <td>0.021569</td>\n",
       "    </tr>\n",
       "    <tr>\n",
       "      <th>14</th>\n",
       "      <td>Role_B_3</td>\n",
       "      <td>0.024955</td>\n",
       "    </tr>\n",
       "    <tr>\n",
       "      <th>15</th>\n",
       "      <td>Role_B_4</td>\n",
       "      <td>0.025662</td>\n",
       "    </tr>\n",
       "    <tr>\n",
       "      <th>6</th>\n",
       "      <td>Role_A_4</td>\n",
       "      <td>0.030635</td>\n",
       "    </tr>\n",
       "    <tr>\n",
       "      <th>12</th>\n",
       "      <td>Role_A_4</td>\n",
       "      <td>0.038728</td>\n",
       "    </tr>\n",
       "    <tr>\n",
       "      <th>2</th>\n",
       "      <td>diff_CINC</td>\n",
       "      <td>0.127271</td>\n",
       "    </tr>\n",
       "    <tr>\n",
       "      <th>0</th>\n",
       "      <td>diff_in_days</td>\n",
       "      <td>0.187505</td>\n",
       "    </tr>\n",
       "    <tr>\n",
       "      <th>3</th>\n",
       "      <td>total_battle_dths</td>\n",
       "      <td>0.190854</td>\n",
       "    </tr>\n",
       "    <tr>\n",
       "      <th>1</th>\n",
       "      <td>diff_in_deaths</td>\n",
       "      <td>0.268239</td>\n",
       "    </tr>\n",
       "  </tbody>\n",
       "</table>\n",
       "</div>"
      ],
      "text/plain": [
       "              feature  importance\n",
       "13           Role_B_2    0.005734\n",
       "7            Role_B_2    0.006343\n",
       "10           Role_A_2    0.006687\n",
       "4            Role_A_2    0.007569\n",
       "8            Role_B_3    0.018610\n",
       "11           Role_A_3    0.019757\n",
       "5            Role_A_3    0.019880\n",
       "9            Role_B_4    0.021569\n",
       "14           Role_B_3    0.024955\n",
       "15           Role_B_4    0.025662\n",
       "6            Role_A_4    0.030635\n",
       "12           Role_A_4    0.038728\n",
       "2           diff_CINC    0.127271\n",
       "0        diff_in_days    0.187505\n",
       "3   total_battle_dths    0.190854\n",
       "1      diff_in_deaths    0.268239"
      ]
     },
     "execution_count": 61,
     "metadata": {},
     "output_type": "execute_result"
    }
   ],
   "source": [
    "pd.DataFrame(\n",
    "    {\"feature\": feature_cols, \"importance\": rfreg.feature_importances_}\n",
    ").sort_values(by=\"importance\")"
   ]
  },
  {
   "cell_type": "code",
   "execution_count": 62,
   "metadata": {},
   "outputs": [
    {
     "name": "stdout",
     "output_type": "stream",
     "text": [
      "0.8290297869995565\n"
     ]
    },
    {
     "data": {
      "text/plain": [
       "0.7827635798604575"
      ]
     },
     "execution_count": 62,
     "metadata": {},
     "output_type": "execute_result"
    }
   ],
   "source": [
    "print((rfreg.oob_score_))  # Rsquared\n",
    "\n",
    "scores = cross_val_score(rfreg, X, y, cv=10, scoring=\"neg_mean_squared_error\")\n",
    "np.mean(np.sqrt(-scores))  # RMSE"
   ]
  },
  {
   "cell_type": "code",
   "execution_count": 63,
   "metadata": {},
   "outputs": [
    {
     "data": {
      "text/plain": [
       "(1360, 16)"
      ]
     },
     "execution_count": 63,
     "metadata": {},
     "output_type": "execute_result"
    }
   ],
   "source": [
    "X.shape"
   ]
  },
  {
   "cell_type": "code",
   "execution_count": 64,
   "metadata": {},
   "outputs": [],
   "source": [
    "X_train, X_test, y_train, y_test = train_test_split(X, y, random_state=89)"
   ]
  },
  {
   "cell_type": "code",
   "execution_count": 65,
   "metadata": {},
   "outputs": [
    {
     "data": {
      "text/plain": [
       "RandomForestRegressor(bootstrap=True, criterion='mse', max_depth=None,\n",
       "           max_features=5, max_leaf_nodes=None, min_impurity_decrease=0.0,\n",
       "           min_impurity_split=None, min_samples_leaf=1,\n",
       "           min_samples_split=2, min_weight_fraction_leaf=0.0,\n",
       "           n_estimators=150, n_jobs=None, oob_score=True, random_state=1,\n",
       "           verbose=0, warm_start=False)"
      ]
     },
     "execution_count": 65,
     "metadata": {},
     "output_type": "execute_result"
    }
   ],
   "source": [
    "rfreg = RandomForestRegressor(\n",
    "    n_estimators=150, max_features=5, oob_score=True, random_state=1\n",
    ")\n",
    "rfreg.fit(X_train, y_train)"
   ]
  },
  {
   "cell_type": "code",
   "execution_count": 66,
   "metadata": {},
   "outputs": [
    {
     "name": "stdout",
     "output_type": "stream",
     "text": [
      "(1020, 4)\n",
      "(1020, 8)\n"
     ]
    }
   ],
   "source": [
    "from sklearn.feature_selection import SelectFromModel\n",
    "\n",
    "print(SelectFromModel(rfreg, threshold=\"mean\", prefit=True).transform(X_train).shape)\n",
    "print(SelectFromModel(rfreg, threshold=\"median\", prefit=True).transform(X_train).shape)"
   ]
  },
  {
   "cell_type": "code",
   "execution_count": 67,
   "metadata": {},
   "outputs": [],
   "source": [
    "X_important = SelectFromModel(rfreg, threshold=\"mean\", prefit=True).transform(X_test)"
   ]
  },
  {
   "cell_type": "code",
   "execution_count": 68,
   "metadata": {},
   "outputs": [
    {
     "data": {
      "text/plain": [
       "0.6395330868373468"
      ]
     },
     "execution_count": 68,
     "metadata": {},
     "output_type": "execute_result"
    }
   ],
   "source": [
    "rfreg = RandomForestRegressor(n_estimators=150, max_features=3, random_state=1)\n",
    "\n",
    "scores = cross_val_score(\n",
    "    rfreg, X_important, y_test, cv=10, scoring=\"neg_mean_squared_error\"\n",
    ")\n",
    "np.mean(np.sqrt(-scores))"
   ]
  },
  {
   "cell_type": "code",
   "execution_count": 69,
   "metadata": {},
   "outputs": [],
   "source": [
    "estimator_range = list(range(10, 300, 10))\n",
    "\n",
    "RMSE_scores = []\n",
    "\n",
    "for estimator in estimator_range:\n",
    "    rfreg = RandomForestRegressor(n_estimators=estimator, random_state=1)\n",
    "    MSE_scores = cross_val_score(rfreg, X, y, cv=5, scoring=\"neg_mean_squared_error\")\n",
    "    RMSE_scores.append(np.mean(np.sqrt(-MSE_scores)))"
   ]
  },
  {
   "cell_type": "code",
   "execution_count": 70,
   "metadata": {},
   "outputs": [
    {
     "data": {
      "text/plain": [
       "Text(0, 0.5, 'RMSE (lower is better)')"
      ]
     },
     "execution_count": 70,
     "metadata": {},
     "output_type": "execute_result"
    },
    {
     "data": {
      "image/png": "[encoded data removed]",
      "text/plain": [
       "<Figure size 432x288 with 1 Axes>"
      ]
     },
     "metadata": {
      "needs_background": "light"
     },
     "output_type": "display_data"
    }
   ],
   "source": [
    "plt.plot(estimator_range, RMSE_scores)\n",
    "\n",
    "plt.xlabel(\"n_estimators\")\n",
    "plt.ylabel(\"RMSE (lower is better)\")"
   ]
  },
  {
   "cell_type": "code",
   "execution_count": 71,
   "metadata": {},
   "outputs": [],
   "source": [
    "feature_range = list(range(1, len(feature_cols) + 1))\n",
    "\n",
    "\n",
    "RMSE_scores = []\n",
    "\n",
    "for feature in feature_range:\n",
    "    rfreg = RandomForestRegressor(\n",
    "        n_estimators=150, max_features=feature, random_state=1\n",
    "    )\n",
    "    MSE_scores = cross_val_score(rfreg, X, y, cv=10, scoring=\"neg_mean_squared_error\")\n",
    "    RMSE_scores.append(np.mean(np.sqrt(-MSE_scores)))"
   ]
  },
  {
   "cell_type": "code",
   "execution_count": 72,
   "metadata": {},
   "outputs": [
    {
     "data": {
      "text/plain": [
       "Text(0, 0.5, 'RMSE (lower is better)')"
      ]
     },
     "execution_count": 72,
     "metadata": {},
     "output_type": "execute_result"
    },
    {
     "data": {
      "image/png": "[encoded data removed]",
      "text/plain": [
       "<Figure size 432x288 with 1 Axes>"
      ]
     },
     "metadata": {
      "needs_background": "light"
     },
     "output_type": "display_data"
    }
   ],
   "source": [
    "plt.plot(feature_range, RMSE_scores)\n",
    "\n",
    "plt.xlabel(\"max_features\")\n",
    "plt.ylabel(\"RMSE (lower is better)\")"
   ]
  },
  {
   "cell_type": "code",
   "execution_count": 73,
   "metadata": {},
   "outputs": [],
   "source": [
    "dummy_knrf = DummyClassifier()"
   ]
  },
  {
   "cell_type": "code",
   "execution_count": 74,
   "metadata": {},
   "outputs": [
    {
     "data": {
      "text/plain": [
       "DummyClassifier(constant=None, random_state=None, strategy='stratified')"
      ]
     },
     "execution_count": 74,
     "metadata": {},
     "output_type": "execute_result"
    }
   ],
   "source": [
    "dummy_knrf.fit(X_train, y_train)"
   ]
  },
  {
   "cell_type": "code",
   "execution_count": 75,
   "metadata": {},
   "outputs": [],
   "source": [
    "y_dummy_kn = dummy_knrf.predict(X_test)"
   ]
  },
  {
   "cell_type": "code",
   "execution_count": 76,
   "metadata": {},
   "outputs": [
    {
     "data": {
      "text/plain": [
       "0.3735294117647059"
      ]
     },
     "execution_count": 76,
     "metadata": {},
     "output_type": "execute_result"
    }
   ],
   "source": [
    "accuracy_score(y_test, y_dummy_kn)"
   ]
  },
  {
   "cell_type": "code",
   "execution_count": 77,
   "metadata": {},
   "outputs": [],
   "source": [
    "#As we can see, the random forest model also produces much better results than the dummy classifier. "
   ]
  },
  {
   "cell_type": "markdown",
   "metadata": {},
   "source": [
    "# Takeaways\n",
    "- There were a few things that genuinely surprised me in the analysis.\n",
    "- The poor results from the logistic regression model, despite the grid search seems to indicates that additional work needs to be done (feature scaling, normalization, etc.)\n",
    "- The random forest and knn models performed as I had expected given that they are generally regarded to be more accurate than logistic regression models.\n",
    "- Looking at the differences between the knn and the random forest model, I can't help but wonder if the knn model is overfitting. "
   ]
  },
  {
   "cell_type": "markdown",
   "metadata": {},
   "source": [
    "# References\n",
    "- Zeev Maoz, Paul L. Johnson, Jasper Kaplan, Fiona Ogunkoya, and Aaron Shreve 2019. The Dyadic Militarized Interstate Disputes (MIDs) Dataset Version 3.0: Logic, Characteristics, and Comparisons to Alternative Datasets, Journal of Conflict Resolution (forthcoming).\n",
    "\n",
    "- Singer, J. David, Stuart Bremer, and John Stuckey. (1972). \"Capability Distribution, Uncertainty, and Major Power War, 1820-1965.\" in Bruce Russett (ed) Peace, War, and Numbers, Beverly Hills: Sage, 19-48. Version 5. "
   ]
  }
 ],
 "metadata": {
  "kernelspec": {
   "display_name": "Python 3",
   "language": "python",
   "name": "python3"
  },
  "language_info": {
   "codemirror_mode": {
    "name": "ipython",
    "version": 3
   },
   "file_extension": ".py",
   "mimetype": "text/x-python",
   "name": "python",
   "nbconvert_exporter": "python",
   "pygments_lexer": "ipython3",
   "version": "3.7.1"
  }
 },
 "nbformat": 4,
 "nbformat_minor": 2
}
